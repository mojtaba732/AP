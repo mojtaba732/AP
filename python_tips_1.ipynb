{
  "nbformat": 4,
  "nbformat_minor": 0,
  "metadata": {
    "colab": {
      "provenance": [],
      "authorship_tag": "ABX9TyN61cwasaubwspeNtKGKPvE",
      "include_colab_link": true
    },
    "kernelspec": {
      "name": "python3",
      "display_name": "Python 3"
    },
    "language_info": {
      "name": "python"
    }
  },
  "cells": [
    {
      "cell_type": "markdown",
      "metadata": {
        "id": "view-in-github",
        "colab_type": "text"
      },
      "source": [
        "<a href=\"https://colab.research.google.com/github/mojtaba732/AP/blob/main/python_tips_1.ipynb\" target=\"_parent\"><img src=\"https://colab.research.google.com/assets/colab-badge.svg\" alt=\"Open In Colab\"/></a>"
      ]
    },
    {
      "cell_type": "markdown",
      "source": [
        "# **Lambda function**\n",
        "\n",
        "\n",
        "*   **You need a small, anonymous function for a single use case**. Lambda functions are quick to define and can be used in situations where a full-fledged named function would be overkill. For example, you might use a lambda function to sort a list by a specific criterion or to filter a list of items based on a condition.\n",
        "\n",
        "*   **You want to avoid defining a named function for a simple operation.** If you only need to perform a simple operation, such as adding 1 to a number or calculating the area of a rectangle, using a lambda function can be more concise and readable than defining a named function.\n",
        "\n",
        "*   **As arguments to higher-order functions like map, filter, and sorted.** These higher-order functions take other functions as arguments, and lambda functions are a convenient way to provide these anonymous functions.\n",
        "\n",
        "Here are some examples of when you might use lambda functions:\n",
        "\n",
        "\n",
        "\n"
      ],
      "metadata": {
        "id": "esWimY5vVX9c"
      }
    },
    {
      "cell_type": "code",
      "execution_count": null,
      "metadata": {
        "id": "UpEK7bMxVUkh"
      },
      "outputs": [],
      "source": [
        "#Sort a list of numbers in descending order:\n",
        "numbers = [3, 1, 4, 5, 2]\n",
        "sorted_numbers = sorted(numbers, key=lambda num: -num)\n",
        "print(sorted_numbers)  # Output: [5, 4, 3, 2, 1]"
      ]
    },
    {
      "cell_type": "code",
      "source": [
        "#Filter a list of strings based on length:\n",
        "strings = [\"apple\", \"banana\", \"cherry\", \"orange\", \"kiwi\"]\n",
        "filtered_strings = list(filter(lambda string: len(string) > 5, strings))\n",
        "print(filtered_strings)  # Output: [\"banana\", \"orange\"]\n"
      ],
      "metadata": {
        "id": "mfs08nyMXHk7"
      },
      "execution_count": null,
      "outputs": []
    },
    {
      "cell_type": "markdown",
      "source": [
        "# **Higher-order functions**\n",
        "Functions that work with other functions in Python. They can either:\n",
        "\n",
        "\n",
        "1. **Take functions as arguments:** These functions receive other functions as inputs and can use them to perfo\n",
        "2. **Return functions as outputs**: These functions create and return new functions as their result.\n",
        "\n",
        "Here are some common examples of higher-order functions in Python:\n",
        "\n",
        "*   **map**: Applies a function to all elements of an iterable.\n",
        "*   **filter**: Creates a new iterable with elements from the original that pass a test.\n",
        "*   **sorted**: Sorts an iterable.\n",
        "*   **reduce**: Applies a function cumulatively to the items of an iterable, reducing it to a single value."
      ],
      "metadata": {
        "id": "py_bvQp_X9mu"
      }
    },
    {
      "cell_type": "markdown",
      "source": [
        "Here's an example of using the **map** function:"
      ],
      "metadata": {
        "id": "ovpVfrcPfTdk"
      }
    },
    {
      "cell_type": "code",
      "source": [
        "# Sample data\n",
        "text = \"The quick brown fox jumps over the lazy dog\"\n",
        "\n",
        "# Convert each word to uppercase using map and lambda function\n",
        "uppercase_words = list(map(lambda word: word.upper(), text.split()))\n",
        "\n",
        "# Print the uppercase words\n",
        "print(uppercase_words)"
      ],
      "metadata": {
        "colab": {
          "base_uri": "https://localhost:8080/"
        },
        "id": "kXMA1Qf2ffe8",
        "outputId": "cc7dd952-705d-4d75-e44f-720d1b7813f1"
      },
      "execution_count": null,
      "outputs": [
        {
          "output_type": "stream",
          "name": "stdout",
          "text": [
            "['THE', 'QUICK', 'BROWN', 'FOX', 'JUMPS', 'OVER', 'THE', 'LAZY', 'DOG']\n"
          ]
        }
      ]
    },
    {
      "cell_type": "markdown",
      "source": [
        "Here's an example of using the **filter** function:"
      ],
      "metadata": {
        "id": "PDnoM_QReGiU"
      }
    },
    {
      "cell_type": "code",
      "source": [
        "# Sample data\n",
        "data = [\n",
        "    {\"name\": \"apple\", \"color\": \"red\", \"price\": 1.25},\n",
        "    {\"name\": \"banana\", \"color\": \"yellow\", \"price\": 0.75},\n",
        "    {\"name\": \"orange\", \"color\": \"orange\", \"price\": 1.50},\n",
        "    {\"name\": \"cherry\", \"color\": \"red\", \"price\": 2.00},\n",
        "]\n",
        "\n",
        "# Filter fruits based on price greater than 1 dollar\n",
        "filtered_data = list(filter(lambda fruit: fruit[\"price\"] > 1, data))\n",
        "\n",
        "# Print the filtered data\n",
        "print(filtered_data)"
      ],
      "metadata": {
        "colab": {
          "base_uri": "https://localhost:8080/"
        },
        "id": "HwEueiDoeB0i",
        "outputId": "552fadeb-5b51-495e-c049-e66b437eb99f"
      },
      "execution_count": null,
      "outputs": [
        {
          "output_type": "stream",
          "name": "stdout",
          "text": [
            "<filter object at 0x7c427519a4d0>\n"
          ]
        }
      ]
    },
    {
      "cell_type": "markdown",
      "source": [
        "Here's an example of using the ***map*** function:"
      ],
      "metadata": {
        "id": "D8SKBritZm6i"
      }
    },
    {
      "cell_type": "code",
      "source": [
        "def square(x):\n",
        "  return x * x\n",
        "\n",
        "numbers = [6, 4, 8, 3, 5]\n",
        "squared_numbers1 = list(map(lambda x:x**2, numbers))  #using lambda function\n",
        "squared_numbers2 = list(map(square, numbers))  #using normal function\n",
        "print(squared_numbers1)\n",
        "print(squared_numbers1)"
      ],
      "metadata": {
        "colab": {
          "base_uri": "https://localhost:8080/"
        },
        "id": "vcx_eDR5ZqQH",
        "outputId": "024d35dd-081a-43fa-93e7-f485291fde38"
      },
      "execution_count": null,
      "outputs": [
        {
          "output_type": "stream",
          "name": "stdout",
          "text": [
            "[36, 16, 64, 9, 25]\n",
            "[36, 16, 64, 9, 25]\n"
          ]
        }
      ]
    },
    {
      "cell_type": "markdown",
      "source": [
        "Here's an example of how you can use the **reduce** function to calculate the sum of a list:"
      ],
      "metadata": {
        "id": "d3f1j14sa1Bq"
      }
    },
    {
      "cell_type": "code",
      "source": [
        "from functools import reduce\n",
        "\n",
        "numbers = [1, 2, 3, 4, 5]\n",
        "\n",
        "# Define an add function to be used with reduce\n",
        "def add(x, y):\n",
        "  return x + y\n",
        "\n",
        "# Use reduce to accumulate the sum of elements\n",
        "sum_of_numbers1 = reduce(add, numbers) #using normal function\n",
        "sum_of_numbers2 = reduce(lambda x,y:x+y, numbers) #using lambda function\n",
        "print(sum_of_numbers1)\n",
        "print(sum_of_numbers2)"
      ],
      "metadata": {
        "colab": {
          "base_uri": "https://localhost:8080/"
        },
        "id": "ayzUHeyxa5bu",
        "outputId": "ca17b33c-9391-4c36-e643-a77a7c81c0cf"
      },
      "execution_count": null,
      "outputs": [
        {
          "output_type": "stream",
          "name": "stdout",
          "text": [
            "15\n",
            "15\n"
          ]
        }
      ]
    },
    {
      "cell_type": "markdown",
      "source": [
        "# **Decorator**\n",
        "In Python, a **decorator** is a design pattern that allows you to modify the behavior of a function or other object without permanently altering its code. It's essentially a function that takes another function and returns a modified version of it.\n",
        "\n",
        "Here's a breakdown of how decorators work:\n",
        "\n",
        "1. **Defining the decorator**: You create a function that takes another function as an argument. This function is called the decorator.\n",
        "2. **Wrapping the original function**: Inside the decorator, you typically define a nested function that acts as a wrapper around the original function. This wrapper function can perform actions before, after, or around the execution of the original function.\n",
        "3. **Returning the wrapper**: The decorator finally returns the wrapper function instead of the original function.\n",
        "\n",
        "Here's a simple example to illustrate the concept:"
      ],
      "metadata": {
        "id": "DlHWnXu7Fv4f"
      }
    },
    {
      "cell_type": "code",
      "source": [
        "def logging_decorator(func):\n",
        "  \"\"\"Decorator that logs function calls.\"\"\"\n",
        "  def wrapper(*args, **kwargs):\n",
        "    print(f\"Calling function: {func.__name__} with arguments: {args}, {kwargs}\")\n",
        "    result = func(*args, **kwargs)\n",
        "    print(f\"Function {func.__name__} returned: {result}\")\n",
        "    return result\n",
        "  return wrapper\n",
        "\n",
        "@logging_decorator\n",
        "def my_function(a, b):\n",
        "  \"\"\"A simple function to add two numbers.\"\"\"\n",
        "  return a + b\n",
        "\n",
        "# Call the decorated function\n",
        "result = my_function(5, 3)\n",
        "print(result)"
      ],
      "metadata": {
        "colab": {
          "base_uri": "https://localhost:8080/"
        },
        "id": "C6SICTsfHWmx",
        "outputId": "2a8f8e36-bcad-43eb-b10d-7ff1acd9aee3"
      },
      "execution_count": null,
      "outputs": [
        {
          "output_type": "stream",
          "name": "stdout",
          "text": [
            "Calling function: my_function with arguments: (5, 3), {}\n",
            "Function my_function returned: 8\n",
            "8\n"
          ]
        }
      ]
    },
    {
      "cell_type": "markdown",
      "source": [
        "Another example of a **decorator** in Python that logs the execution time of a function:"
      ],
      "metadata": {
        "id": "fG3kcflsIEeT"
      }
    },
    {
      "cell_type": "code",
      "source": [
        "import time\n",
        "\n",
        "def measure_time(func):\n",
        "  \"\"\"Decorator to measure the execution time of a function.\"\"\"\n",
        "  def wrapper(*args, **kwargs):\n",
        "    start_time = time.perf_counter()  # Use high-resolution timer\n",
        "    result = func(*args, **kwargs)\n",
        "    end_time = time.perf_counter()\n",
        "    execution_time = end_time - start_time\n",
        "    print(f\"Function '{func.__name__}' took {execution_time:.4f} seconds to execute.\")\n",
        "    return result\n",
        "  return wrapper\n",
        "\n",
        "@measure_time\n",
        "def my_long_running_function(n):\n",
        "  \"\"\"Simulates a long-running function by performing a loop.\"\"\"\n",
        "  for _ in range(n * 100000):\n",
        "    pass\n",
        "\n",
        "# Call the decorated function\n",
        "my_long_running_function(1000)  # Output: Function 'my_long_running_function' took 0.1234 seconds to execute.\n"
      ],
      "metadata": {
        "colab": {
          "base_uri": "https://localhost:8080/"
        },
        "id": "C0n8zJYeIIPd",
        "outputId": "bc64619b-ed6e-4a3c-d9b0-db31bbc3f6b4"
      },
      "execution_count": null,
      "outputs": [
        {
          "output_type": "stream",
          "name": "stdout",
          "text": [
            "Function 'my_long_running_function' took 1.4023 seconds to execute.\n"
          ]
        }
      ]
    },
    {
      "cell_type": "markdown",
      "source": [
        "# \\*args and \\**kargs\n",
        "Both \\*args and **kwargs are used in Python function definitions to handle arguments passed to the function during calls.\n",
        "However, they differ in how they handle the arguments:"
      ],
      "metadata": {
        "id": "ilyg_yLOKyeG"
      }
    },
    {
      "cell_type": "markdown",
      "source": [
        "\\*args (**positional arguments**):\n",
        "\n",
        "\n",
        "1. Represents an arbitrary number of positional arguments.\n",
        "2. When used in a function definition, *args collects all positional arguments that are passed to the function after the named arguments (arguments with names).\n",
        "3. It is stored as a tuple inside the function.\n",
        "\n",
        "**Example:**\n",
        "\n"
      ],
      "metadata": {
        "id": "qJOKq0MrMPvQ"
      }
    },
    {
      "cell_type": "code",
      "source": [
        "def my_function(*args):\n",
        "  print(f\"Received arguments: {args}\")\n",
        "\n",
        "my_function(1, 2, 3)  # Output: Received arguments: (1, 2, 3)"
      ],
      "metadata": {
        "id": "9s5QkfdXM0y4"
      },
      "execution_count": null,
      "outputs": []
    },
    {
      "cell_type": "markdown",
      "source": [
        "**\\*\\*kwargs (keyword arguments):**\n",
        "\n",
        "\n",
        "* Represents an arbitrary number of keyword arguments.\n",
        "* When used in a function definition, **kwargs collects all keyword arguments (arguments with names and values) that are passed to the function\n",
        "* It is stored as a dictionary inside the function.\n",
        "\n",
        "**Example:**\n",
        "\n",
        "\n",
        "\n"
      ],
      "metadata": {
        "id": "OhfjNrwiM-0b"
      }
    },
    {
      "cell_type": "code",
      "source": [
        "def my_function(**kwargs):\n",
        "  print(f\"Received keyword arguments: {kwargs}\")\n",
        "\n",
        "my_function(name=\"Alice\", age=30)  # Output: Received keyword arguments: {'name': 'Alice', 'age': 30}"
      ],
      "metadata": {
        "id": "JjxfIQwNNftE",
        "outputId": "4032b61c-2f96-496a-f6e4-34966618a487",
        "colab": {
          "base_uri": "https://localhost:8080/"
        }
      },
      "execution_count": null,
      "outputs": [
        {
          "output_type": "stream",
          "name": "stdout",
          "text": [
            "Received keyword arguments: {'name': 'Alice', 'age': 30}\n"
          ]
        }
      ]
    },
    {
      "cell_type": "markdown",
      "source": [
        "# **Generators**\n",
        "\n",
        "In Python, generators are a special type of function that allows you to create iterators. Unlike regular functions that return a single value, generators **yield** a sequence of values, one at a time. This makes them **memory-efficient**, especially when dealing with large datasets or infinite sequences."
      ],
      "metadata": {
        "id": "Z59owz8lKCN0"
      }
    },
    {
      "cell_type": "code",
      "source": [
        "def fibonacci(n):\n",
        "  \"\"\"\n",
        "  This generator function yields the Fibonacci sequence up to n.\n",
        "  \"\"\"\n",
        "  a, b = 0, 1\n",
        "  for _ in range(n):\n",
        "    yield a\n",
        "    a, b = b, a + b\n",
        "\n",
        "# Get the first 10 Fibonacci numbers\n",
        "for num in fibonacci(10):\n",
        "  print(num, end = \" \")"
      ],
      "metadata": {
        "colab": {
          "base_uri": "https://localhost:8080/"
        },
        "id": "eZZlM8apKHmF",
        "outputId": "a61ca998-72f4-4da0-bcd3-d4fa105e4d03"
      },
      "execution_count": 1,
      "outputs": [
        {
          "output_type": "stream",
          "name": "stdout",
          "text": [
            "0 1 1 2 3 5 8 13 21 34 "
          ]
        }
      ]
    },
    {
      "cell_type": "markdown",
      "source": [
        "Python generators **excel in list processing** when dealing with **large datasets** or situations where **memory efficiency** is crucial. Here are two examples:\n",
        "\n",
        "**1. Filtering elements with a generator expression:**"
      ],
      "metadata": {
        "id": "20qmFW6bK0LN"
      }
    },
    {
      "cell_type": "code",
      "source": [
        "numbers = [1, 2, 3, 4, 5, 6, 7, 8, 9, 10]\n",
        "\n",
        "# Using list comprehension (creates a new list)\n",
        "even_numbers = [num for num in numbers if num % 2 == 0]\n",
        "\n",
        "# Using generator expression (more memory efficient)\n",
        "even_generator = (num for num in numbers if num % 2 == 0)\n",
        "# Printing the first 5 elements (generator doesn't create all at once)\n",
        "for num in even_generator:\n",
        "  print(num, end = \" \")"
      ],
      "metadata": {
        "colab": {
          "base_uri": "https://localhost:8080/"
        },
        "id": "vFkw05sZK3tM",
        "outputId": "7ce7fa70-2ac3-4708-a604-6c1047ae99ce"
      },
      "execution_count": 4,
      "outputs": [
        {
          "output_type": "stream",
          "name": "stdout",
          "text": [
            "<class 'list'>\n",
            "2 4 6 8 10 "
          ]
        }
      ]
    },
    {
      "cell_type": "markdown",
      "source": [
        " **2. Transforming elements with a generator function:**:\n",
        "\n"
      ],
      "metadata": {
        "id": "uyq_gb2AK9MX"
      }
    },
    {
      "cell_type": "code",
      "source": [
        "data = [\"apple\", \"banana\", \"cherry\", \"mango\"]\n",
        "\n",
        "# Using list comprehension (creates a new list)\n",
        "uppercase_data = [item.upper() for item in data]\n",
        "\n",
        "# Using a generator function (more efficient for large datasets)\n",
        "def uppercase_generator(data):\n",
        "  for item in data:\n",
        "    yield item.upper()\n",
        "\n",
        "# Get the uppercase generator object\n",
        "uppercase_gen = uppercase_generator(data)\n",
        "\n",
        "# Print the first 3 elements (generator yields values one by one)\n",
        "for i in range(3):\n",
        "  print(next(uppercase_gen))"
      ],
      "metadata": {
        "colab": {
          "base_uri": "https://localhost:8080/"
        },
        "id": "mWE7GJAwLHqx",
        "outputId": "3719361f-022f-4491-b813-2648b79088b5"
      },
      "execution_count": null,
      "outputs": [
        {
          "output_type": "stream",
          "name": "stdout",
          "text": [
            "APPLE\n",
            "BANANA\n",
            "CHERRY\n"
          ]
        }
      ]
    },
    {
      "cell_type": "markdown",
      "source": [
        "# **Closures**\n",
        "Closures in Python are functions that remember and can access variables from their enclosing scope even after the outer function has finished executing. This allows them to maintain a kind of \"state\" that's not directly visible outside the closure.\n",
        "\n",
        "Here's a practical example using closures to create simple \"counter\" functions:"
      ],
      "metadata": {
        "id": "ea50qfKl8Gg8"
      }
    },
    {
      "cell_type": "code",
      "source": [
        "def create_counter(start_value=0):\n",
        "  count = start_value  # This variable is captured by the closure\n",
        "\n",
        "  def increment():\n",
        "    count += 1\n",
        "    return count\n",
        "\n",
        "  return increment  # We return the inner function\n",
        "\n",
        "# Create two counter functions with different starting values\n",
        "counter1 = create_counter(5)\n",
        "counter2 = create_counter(10)\n",
        "\n",
        "# Calling the returned functions increments their own counter\n",
        "print(counter1())  # Output: 6\n",
        "print(counter1())  # Output: 7 (counter1 remembers its own state)\n",
        "print(counter2())  # Output: 11 (counter2 has a separate state)\n"
      ],
      "metadata": {
        "id": "CByRLP_Q9J9l"
      },
      "execution_count": null,
      "outputs": []
    },
    {
      "cell_type": "markdown",
      "source": [
        "# **Closure** vs **Decorator**\n",
        "\n",
        "While both closures and decorators are powerful tools in Python, they serve different purposes:\n",
        "\n",
        "**Closures:**\n",
        "\n",
        "* **Function with memory**: A closure is an anonymous function that\n",
        "remembers and can access variables from its enclosing scope, even after the outer function has finished executing. This allows closures to maintain a kind of \"state\" that's not directly visible outside.\n",
        "\n",
        "    * Use cases:\n",
        "        * Creating functions with persistent state (counters, configuration holders)\n",
        "        * Implementing data hiding by encapsulating data within a closure\n",
        "        * Building custom iterators or generators\n",
        "\n",
        "**Decorators:**\n",
        "\n",
        "* Function modifiers: Decorators are functions or classes that modify the behavior of other functions without permanently changing their source code. They achieve this by wrapping the original function and potentially adding functionality before or after its execution.\n",
        "\n",
        "  * Use cases:\n",
        "      * Adding common functionality to multiple functions (authentication, logging, caching)\n",
        "      * Simplifying complex logic by breaking it down into smaller, reusable decorators\n",
        "      * Implementing design patterns like the observer pattern or the strategy pattern"
      ],
      "metadata": {
        "id": "lZhXiVGe94F9"
      }
    }
  ]
}