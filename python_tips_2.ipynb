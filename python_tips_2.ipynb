{
  "nbformat": 4,
  "nbformat_minor": 0,
  "metadata": {
    "colab": {
      "provenance": [],
      "authorship_tag": "ABX9TyMPWHUhj6KJ6L0BDFDG5iJ7",
      "include_colab_link": true
    },
    "kernelspec": {
      "name": "python3",
      "display_name": "Python 3"
    },
    "language_info": {
      "name": "python"
    }
  },
  "cells": [
    {
      "cell_type": "markdown",
      "metadata": {
        "id": "view-in-github",
        "colab_type": "text"
      },
      "source": [
        "<a href=\"https://colab.research.google.com/github/mojtaba732/AP/blob/main/python_tips_2.ipynb\" target=\"_parent\"><img src=\"https://colab.research.google.com/assets/colab-badge.svg\" alt=\"Open In Colab\"/></a>"
      ]
    },
    {
      "cell_type": "markdown",
      "source": [
        "**Caching Example using cachetools:**\n",
        "This example showcases using the cachetools package to implement a cache with limited size and time-to-live (TTL) for a simple function:\n"
      ],
      "metadata": {
        "id": "eRd_K18uExKy"
      }
    },
    {
      "cell_type": "code",
      "execution_count": 4,
      "metadata": {
        "colab": {
          "base_uri": "https://localhost:8080/"
        },
        "id": "IwXHLco_Et0a",
        "outputId": "34f2cfad-4d3f-49de-a842-ca2d045cb036"
      },
      "outputs": [
        {
          "output_type": "stream",
          "name": "stdout",
          "text": [
            "5\n",
            "5\n",
            "5\n"
          ]
        }
      ],
      "source": [
        "import cachetools\n",
        "import time\n",
        "from cachetools import TTLCache\n",
        "\n",
        "# Create a cache with maximum size of 10 entries and TTL of 30 seconds\n",
        "cache = TTLCache(maxsize=10, ttl=30)\n",
        "\n",
        "@cachetools.cached(cache=cache)\n",
        "def calculate_fibonacci(n):\n",
        "  \"\"\"Calculates the nth Fibonacci number.\"\"\"\n",
        "  if n <= 1:\n",
        "    return n\n",
        "  else:\n",
        "    return calculate_fibonacci(n-1) + calculate_fibonacci(n-2)\n",
        "\n",
        "print(calculate_fibonacci(5))  # Cache miss, calculates and stores result\n",
        "print(calculate_fibonacci(5))  # Cache hit, retrieves stored result\n",
        "\n",
        "# Wait for the cache entry to expire (around 30 seconds)\n",
        "time.sleep(35)\n",
        "\n",
        "print(calculate_fibonacci(5))  # Cache miss (expired), recalculates and stores"
      ]
    },
    {
      "cell_type": "markdown",
      "source": [
        "**Benefits:**\n",
        " * Automatic Invalidation: Entries are automatically removed from the cache after the specified TTL.\n",
        " * Limited Size: Prevents the cache from growing indefinitely.\n",
        "\n",
        "**Additional Features:**\n",
        "cachetools offers other caching options like LFUCache (Least Frequently Used) and RRCache (Round Robin).\n",
        "\n",
        "You can customize cache behavior by subclassing TTLCache or using decorators like @cachedmethod.\n",
        "\n",
        "**Remember:**\n",
        "\n",
        "Choose the appropriate cache implementation and strategy based on your specific requirements.\n",
        "Consider aspects like access patterns, data size, and update frequency when making decisions.\n"
      ],
      "metadata": {
        "id": "2Kq8v0O2GM_O"
      }
    }
  ]
}